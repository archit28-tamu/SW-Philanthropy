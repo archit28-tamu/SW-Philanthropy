{
 "cells": [
  {
   "cell_type": "code",
   "execution_count": 32,
   "metadata": {},
   "outputs": [],
   "source": [
    "import pandas as pd\n",
    "\n",
    "filepath = 'C://Users//archi//OneDrive//Desktop//Fall 24//Capstone//Data//'"
   ]
  },
  {
   "cell_type": "code",
   "execution_count": 33,
   "metadata": {},
   "outputs": [
    {
     "data": {
      "text/html": [
       "<div>\n",
       "<style scoped>\n",
       "    .dataframe tbody tr th:only-of-type {\n",
       "        vertical-align: middle;\n",
       "    }\n",
       "\n",
       "    .dataframe tbody tr th {\n",
       "        vertical-align: top;\n",
       "    }\n",
       "\n",
       "    .dataframe thead th {\n",
       "        text-align: right;\n",
       "    }\n",
       "</style>\n",
       "<table border=\"1\" class=\"dataframe\">\n",
       "  <thead>\n",
       "    <tr style=\"text-align: right;\">\n",
       "      <th></th>\n",
       "      <th>ZIP</th>\n",
       "      <th>CBSA</th>\n",
       "      <th>USPS_ZIP_PREF_CITY</th>\n",
       "      <th>USPS_ZIP_PREF_STATE</th>\n",
       "      <th>RES_RATIO</th>\n",
       "      <th>BUS_RATIO</th>\n",
       "      <th>OTH_RATIO</th>\n",
       "      <th>TOT_RATIO</th>\n",
       "    </tr>\n",
       "  </thead>\n",
       "  <tbody>\n",
       "    <tr>\n",
       "      <th>0</th>\n",
       "      <td>501</td>\n",
       "      <td>35620</td>\n",
       "      <td>HOLTSVILLE</td>\n",
       "      <td>NY</td>\n",
       "      <td>0.0</td>\n",
       "      <td>1.0</td>\n",
       "      <td>0.0</td>\n",
       "      <td>1.0</td>\n",
       "    </tr>\n",
       "    <tr>\n",
       "      <th>1</th>\n",
       "      <td>601</td>\n",
       "      <td>99999</td>\n",
       "      <td>ADJUNTAS</td>\n",
       "      <td>PR</td>\n",
       "      <td>1.0</td>\n",
       "      <td>1.0</td>\n",
       "      <td>1.0</td>\n",
       "      <td>1.0</td>\n",
       "    </tr>\n",
       "    <tr>\n",
       "      <th>2</th>\n",
       "      <td>602</td>\n",
       "      <td>10380</td>\n",
       "      <td>AGUADA</td>\n",
       "      <td>PR</td>\n",
       "      <td>1.0</td>\n",
       "      <td>1.0</td>\n",
       "      <td>1.0</td>\n",
       "      <td>1.0</td>\n",
       "    </tr>\n",
       "    <tr>\n",
       "      <th>3</th>\n",
       "      <td>603</td>\n",
       "      <td>10380</td>\n",
       "      <td>AGUADILLA</td>\n",
       "      <td>PR</td>\n",
       "      <td>1.0</td>\n",
       "      <td>1.0</td>\n",
       "      <td>1.0</td>\n",
       "      <td>1.0</td>\n",
       "    </tr>\n",
       "    <tr>\n",
       "      <th>4</th>\n",
       "      <td>604</td>\n",
       "      <td>10380</td>\n",
       "      <td>AGUADILLA</td>\n",
       "      <td>PR</td>\n",
       "      <td>1.0</td>\n",
       "      <td>1.0</td>\n",
       "      <td>1.0</td>\n",
       "      <td>1.0</td>\n",
       "    </tr>\n",
       "  </tbody>\n",
       "</table>\n",
       "</div>"
      ],
      "text/plain": [
       "   ZIP   CBSA USPS_ZIP_PREF_CITY USPS_ZIP_PREF_STATE  RES_RATIO  BUS_RATIO  \\\n",
       "0  501  35620         HOLTSVILLE                  NY        0.0        1.0   \n",
       "1  601  99999           ADJUNTAS                  PR        1.0        1.0   \n",
       "2  602  10380             AGUADA                  PR        1.0        1.0   \n",
       "3  603  10380          AGUADILLA                  PR        1.0        1.0   \n",
       "4  604  10380          AGUADILLA                  PR        1.0        1.0   \n",
       "\n",
       "   OTH_RATIO  TOT_RATIO  \n",
       "0        0.0        1.0  \n",
       "1        1.0        1.0  \n",
       "2        1.0        1.0  \n",
       "3        1.0        1.0  \n",
       "4        1.0        1.0  "
      ]
     },
     "execution_count": 33,
     "metadata": {},
     "output_type": "execute_result"
    }
   ],
   "source": [
    "zip_cbsa = pd.read_excel(filepath+'Census//ZIP_CBSA_062024.xlsx', header=0)\n",
    "\n",
    "zip_cbsa.head()"
   ]
  },
  {
   "cell_type": "code",
   "execution_count": 34,
   "metadata": {},
   "outputs": [
    {
     "data": {
      "text/plain": [
       "(47491, 8)"
      ]
     },
     "execution_count": 34,
     "metadata": {},
     "output_type": "execute_result"
    }
   ],
   "source": [
    "zip_cbsa.shape"
   ]
  },
  {
   "cell_type": "code",
   "execution_count": 35,
   "metadata": {},
   "outputs": [
    {
     "data": {
      "text/plain": [
       "39490"
      ]
     },
     "execution_count": 35,
     "metadata": {},
     "output_type": "execute_result"
    }
   ],
   "source": [
    "zip_cbsa['ZIP'].nunique()"
   ]
  },
  {
   "cell_type": "code",
   "execution_count": 36,
   "metadata": {},
   "outputs": [],
   "source": [
    "zip_cbsa = zip_cbsa.loc[zip_cbsa.groupby(['ZIP'])['TOT_RATIO'].idxmax()]\n"
   ]
  },
  {
   "cell_type": "code",
   "execution_count": 37,
   "metadata": {},
   "outputs": [
    {
     "data": {
      "text/html": [
       "<div>\n",
       "<style scoped>\n",
       "    .dataframe tbody tr th:only-of-type {\n",
       "        vertical-align: middle;\n",
       "    }\n",
       "\n",
       "    .dataframe tbody tr th {\n",
       "        vertical-align: top;\n",
       "    }\n",
       "\n",
       "    .dataframe thead th {\n",
       "        text-align: right;\n",
       "    }\n",
       "</style>\n",
       "<table border=\"1\" class=\"dataframe\">\n",
       "  <thead>\n",
       "    <tr style=\"text-align: right;\">\n",
       "      <th></th>\n",
       "      <th>ZIP</th>\n",
       "      <th>CBSA</th>\n",
       "    </tr>\n",
       "  </thead>\n",
       "  <tbody>\n",
       "    <tr>\n",
       "      <th>0</th>\n",
       "      <td>501</td>\n",
       "      <td>35620</td>\n",
       "    </tr>\n",
       "    <tr>\n",
       "      <th>1</th>\n",
       "      <td>601</td>\n",
       "      <td>99999</td>\n",
       "    </tr>\n",
       "    <tr>\n",
       "      <th>2</th>\n",
       "      <td>602</td>\n",
       "      <td>10380</td>\n",
       "    </tr>\n",
       "    <tr>\n",
       "      <th>3</th>\n",
       "      <td>603</td>\n",
       "      <td>10380</td>\n",
       "    </tr>\n",
       "    <tr>\n",
       "      <th>4</th>\n",
       "      <td>604</td>\n",
       "      <td>10380</td>\n",
       "    </tr>\n",
       "  </tbody>\n",
       "</table>\n",
       "</div>"
      ],
      "text/plain": [
       "   ZIP   CBSA\n",
       "0  501  35620\n",
       "1  601  99999\n",
       "2  602  10380\n",
       "3  603  10380\n",
       "4  604  10380"
      ]
     },
     "execution_count": 37,
     "metadata": {},
     "output_type": "execute_result"
    }
   ],
   "source": [
    "zip_cbsa.drop(columns=['USPS_ZIP_PREF_CITY','USPS_ZIP_PREF_STATE','RES_RATIO','BUS_RATIO','OTH_RATIO','TOT_RATIO'], axis=1, inplace=True)\n",
    "\n",
    "zip_cbsa.head()"
   ]
  },
  {
   "cell_type": "code",
   "execution_count": 38,
   "metadata": {},
   "outputs": [],
   "source": [
    "zip_cbsa.drop(zip_cbsa[zip_cbsa['CBSA']==99999].index, inplace=True)"
   ]
  },
  {
   "cell_type": "code",
   "execution_count": 39,
   "metadata": {},
   "outputs": [
    {
     "data": {
      "text/plain": [
       "(28545, 2)"
      ]
     },
     "execution_count": 39,
     "metadata": {},
     "output_type": "execute_result"
    }
   ],
   "source": [
    "zip_cbsa.shape"
   ]
  },
  {
   "cell_type": "code",
   "execution_count": 40,
   "metadata": {},
   "outputs": [
    {
     "data": {
      "text/html": [
       "<div>\n",
       "<style scoped>\n",
       "    .dataframe tbody tr th:only-of-type {\n",
       "        vertical-align: middle;\n",
       "    }\n",
       "\n",
       "    .dataframe tbody tr th {\n",
       "        vertical-align: top;\n",
       "    }\n",
       "\n",
       "    .dataframe thead th {\n",
       "        text-align: right;\n",
       "    }\n",
       "</style>\n",
       "<table border=\"1\" class=\"dataframe\">\n",
       "  <thead>\n",
       "    <tr style=\"text-align: right;\">\n",
       "      <th></th>\n",
       "      <th>CBSA Code</th>\n",
       "      <th>CBSA Title</th>\n",
       "      <th>Metropolitan/Micropolitan Statistical Area</th>\n",
       "      <th>Principal City Name</th>\n",
       "      <th>FIPS State Code</th>\n",
       "      <th>FIPS Place Code</th>\n",
       "    </tr>\n",
       "  </thead>\n",
       "  <tbody>\n",
       "    <tr>\n",
       "      <th>0</th>\n",
       "      <td>10100</td>\n",
       "      <td>Aberdeen, SD</td>\n",
       "      <td>Micropolitan Statistical Area</td>\n",
       "      <td>Aberdeen</td>\n",
       "      <td>46</td>\n",
       "      <td>100</td>\n",
       "    </tr>\n",
       "    <tr>\n",
       "      <th>1</th>\n",
       "      <td>10140</td>\n",
       "      <td>Aberdeen, WA</td>\n",
       "      <td>Micropolitan Statistical Area</td>\n",
       "      <td>Aberdeen</td>\n",
       "      <td>53</td>\n",
       "      <td>100</td>\n",
       "    </tr>\n",
       "    <tr>\n",
       "      <th>2</th>\n",
       "      <td>10180</td>\n",
       "      <td>Abilene, TX</td>\n",
       "      <td>Metropolitan Statistical Area</td>\n",
       "      <td>Abilene</td>\n",
       "      <td>48</td>\n",
       "      <td>1000</td>\n",
       "    </tr>\n",
       "    <tr>\n",
       "      <th>3</th>\n",
       "      <td>10220</td>\n",
       "      <td>Ada, OK</td>\n",
       "      <td>Micropolitan Statistical Area</td>\n",
       "      <td>Ada</td>\n",
       "      <td>40</td>\n",
       "      <td>200</td>\n",
       "    </tr>\n",
       "    <tr>\n",
       "      <th>4</th>\n",
       "      <td>10300</td>\n",
       "      <td>Adrian, MI</td>\n",
       "      <td>Micropolitan Statistical Area</td>\n",
       "      <td>Adrian</td>\n",
       "      <td>26</td>\n",
       "      <td>440</td>\n",
       "    </tr>\n",
       "  </tbody>\n",
       "</table>\n",
       "</div>"
      ],
      "text/plain": [
       "   CBSA Code    CBSA Title Metropolitan/Micropolitan Statistical Area  \\\n",
       "0      10100  Aberdeen, SD              Micropolitan Statistical Area   \n",
       "1      10140  Aberdeen, WA              Micropolitan Statistical Area   \n",
       "2      10180   Abilene, TX              Metropolitan Statistical Area   \n",
       "3      10220       Ada, OK              Micropolitan Statistical Area   \n",
       "4      10300    Adrian, MI              Micropolitan Statistical Area   \n",
       "\n",
       "  Principal City Name  FIPS State Code  FIPS Place Code  \n",
       "0            Aberdeen               46              100  \n",
       "1            Aberdeen               53              100  \n",
       "2             Abilene               48             1000  \n",
       "3                 Ada               40              200  \n",
       "4              Adrian               26              440  "
      ]
     },
     "execution_count": 40,
     "metadata": {},
     "output_type": "execute_result"
    }
   ],
   "source": [
    "cbsa_details = pd.read_excel(filepath+'Census//list2_2023.xlsx', header=0)\n",
    "\n",
    "cbsa_details.head()"
   ]
  },
  {
   "cell_type": "code",
   "execution_count": 41,
   "metadata": {},
   "outputs": [
    {
     "data": {
      "text/plain": [
       "(1294, 6)"
      ]
     },
     "execution_count": 41,
     "metadata": {},
     "output_type": "execute_result"
    }
   ],
   "source": [
    "cbsa_details.shape"
   ]
  },
  {
   "cell_type": "code",
   "execution_count": 42,
   "metadata": {},
   "outputs": [
    {
     "data": {
      "text/html": [
       "<div>\n",
       "<style scoped>\n",
       "    .dataframe tbody tr th:only-of-type {\n",
       "        vertical-align: middle;\n",
       "    }\n",
       "\n",
       "    .dataframe tbody tr th {\n",
       "        vertical-align: top;\n",
       "    }\n",
       "\n",
       "    .dataframe thead th {\n",
       "        text-align: right;\n",
       "    }\n",
       "</style>\n",
       "<table border=\"1\" class=\"dataframe\">\n",
       "  <thead>\n",
       "    <tr style=\"text-align: right;\">\n",
       "      <th></th>\n",
       "      <th>CBSA Code</th>\n",
       "      <th>CBSA Title</th>\n",
       "      <th>Metropolitan/Micropolitan Statistical Area</th>\n",
       "    </tr>\n",
       "  </thead>\n",
       "  <tbody>\n",
       "    <tr>\n",
       "      <th>0</th>\n",
       "      <td>10100</td>\n",
       "      <td>Aberdeen, SD</td>\n",
       "      <td>Micropolitan Statistical Area</td>\n",
       "    </tr>\n",
       "    <tr>\n",
       "      <th>1</th>\n",
       "      <td>10140</td>\n",
       "      <td>Aberdeen, WA</td>\n",
       "      <td>Micropolitan Statistical Area</td>\n",
       "    </tr>\n",
       "    <tr>\n",
       "      <th>2</th>\n",
       "      <td>10180</td>\n",
       "      <td>Abilene, TX</td>\n",
       "      <td>Metropolitan Statistical Area</td>\n",
       "    </tr>\n",
       "    <tr>\n",
       "      <th>3</th>\n",
       "      <td>10220</td>\n",
       "      <td>Ada, OK</td>\n",
       "      <td>Micropolitan Statistical Area</td>\n",
       "    </tr>\n",
       "    <tr>\n",
       "      <th>4</th>\n",
       "      <td>10300</td>\n",
       "      <td>Adrian, MI</td>\n",
       "      <td>Micropolitan Statistical Area</td>\n",
       "    </tr>\n",
       "  </tbody>\n",
       "</table>\n",
       "</div>"
      ],
      "text/plain": [
       "   CBSA Code    CBSA Title Metropolitan/Micropolitan Statistical Area\n",
       "0      10100  Aberdeen, SD              Micropolitan Statistical Area\n",
       "1      10140  Aberdeen, WA              Micropolitan Statistical Area\n",
       "2      10180   Abilene, TX              Metropolitan Statistical Area\n",
       "3      10220       Ada, OK              Micropolitan Statistical Area\n",
       "4      10300    Adrian, MI              Micropolitan Statistical Area"
      ]
     },
     "execution_count": 42,
     "metadata": {},
     "output_type": "execute_result"
    }
   ],
   "source": [
    "cbsa_details.drop(columns=['Principal City Name','FIPS State Code','FIPS Place Code'], axis=1, inplace=True)\n",
    "\n",
    "cbsa_details.head()"
   ]
  },
  {
   "cell_type": "code",
   "execution_count": 43,
   "metadata": {},
   "outputs": [
    {
     "name": "stdout",
     "output_type": "stream",
     "text": [
      "<class 'pandas.core.frame.DataFrame'>\n",
      "Index: 28545 entries, 0 to 47489\n",
      "Data columns (total 2 columns):\n",
      " #   Column  Non-Null Count  Dtype\n",
      "---  ------  --------------  -----\n",
      " 0   ZIP     28545 non-null  int64\n",
      " 1   CBSA    28545 non-null  int64\n",
      "dtypes: int64(2)\n",
      "memory usage: 669.0 KB\n"
     ]
    }
   ],
   "source": [
    "zip_cbsa.info()"
   ]
  },
  {
   "cell_type": "code",
   "execution_count": 44,
   "metadata": {},
   "outputs": [
    {
     "name": "stdout",
     "output_type": "stream",
     "text": [
      "<class 'pandas.core.frame.DataFrame'>\n",
      "RangeIndex: 1294 entries, 0 to 1293\n",
      "Data columns (total 3 columns):\n",
      " #   Column                                      Non-Null Count  Dtype \n",
      "---  ------                                      --------------  ----- \n",
      " 0   CBSA Code                                   1294 non-null   int64 \n",
      " 1   CBSA Title                                  1294 non-null   object\n",
      " 2   Metropolitan/Micropolitan Statistical Area  1294 non-null   object\n",
      "dtypes: int64(1), object(2)\n",
      "memory usage: 30.5+ KB\n"
     ]
    }
   ],
   "source": [
    "cbsa_details.info()"
   ]
  },
  {
   "cell_type": "code",
   "execution_count": 45,
   "metadata": {},
   "outputs": [
    {
     "data": {
      "text/plain": [
       "359"
      ]
     },
     "execution_count": 45,
     "metadata": {},
     "output_type": "execute_result"
    }
   ],
   "source": [
    "cbsa_details.duplicated().sum()"
   ]
  },
  {
   "cell_type": "code",
   "execution_count": 46,
   "metadata": {},
   "outputs": [],
   "source": [
    "cbsa_details.drop_duplicates(inplace=True)"
   ]
  },
  {
   "cell_type": "code",
   "execution_count": 47,
   "metadata": {},
   "outputs": [],
   "source": [
    "cbsa_details.rename(columns={'CBSA Code':'CBSA'}, inplace=True)"
   ]
  },
  {
   "cell_type": "code",
   "execution_count": 48,
   "metadata": {},
   "outputs": [],
   "source": [
    "cbsa = pd.merge(zip_cbsa, cbsa_details, on=['CBSA'], how='left')"
   ]
  },
  {
   "cell_type": "code",
   "execution_count": 49,
   "metadata": {},
   "outputs": [
    {
     "data": {
      "text/html": [
       "<div>\n",
       "<style scoped>\n",
       "    .dataframe tbody tr th:only-of-type {\n",
       "        vertical-align: middle;\n",
       "    }\n",
       "\n",
       "    .dataframe tbody tr th {\n",
       "        vertical-align: top;\n",
       "    }\n",
       "\n",
       "    .dataframe thead th {\n",
       "        text-align: right;\n",
       "    }\n",
       "</style>\n",
       "<table border=\"1\" class=\"dataframe\">\n",
       "  <thead>\n",
       "    <tr style=\"text-align: right;\">\n",
       "      <th></th>\n",
       "      <th>ZIP</th>\n",
       "      <th>CBSA</th>\n",
       "      <th>CBSA Title</th>\n",
       "      <th>Metropolitan/Micropolitan Statistical Area</th>\n",
       "    </tr>\n",
       "  </thead>\n",
       "  <tbody>\n",
       "    <tr>\n",
       "      <th>0</th>\n",
       "      <td>501</td>\n",
       "      <td>35620</td>\n",
       "      <td>New York-Newark-Jersey City, NY-NJ</td>\n",
       "      <td>Metropolitan Statistical Area</td>\n",
       "    </tr>\n",
       "    <tr>\n",
       "      <th>1</th>\n",
       "      <td>602</td>\n",
       "      <td>10380</td>\n",
       "      <td>Aguadilla, PR</td>\n",
       "      <td>Metropolitan Statistical Area</td>\n",
       "    </tr>\n",
       "    <tr>\n",
       "      <th>2</th>\n",
       "      <td>603</td>\n",
       "      <td>10380</td>\n",
       "      <td>Aguadilla, PR</td>\n",
       "      <td>Metropolitan Statistical Area</td>\n",
       "    </tr>\n",
       "    <tr>\n",
       "      <th>3</th>\n",
       "      <td>604</td>\n",
       "      <td>10380</td>\n",
       "      <td>Aguadilla, PR</td>\n",
       "      <td>Metropolitan Statistical Area</td>\n",
       "    </tr>\n",
       "    <tr>\n",
       "      <th>4</th>\n",
       "      <td>605</td>\n",
       "      <td>10380</td>\n",
       "      <td>Aguadilla, PR</td>\n",
       "      <td>Metropolitan Statistical Area</td>\n",
       "    </tr>\n",
       "  </tbody>\n",
       "</table>\n",
       "</div>"
      ],
      "text/plain": [
       "   ZIP   CBSA                          CBSA Title  \\\n",
       "0  501  35620  New York-Newark-Jersey City, NY-NJ   \n",
       "1  602  10380                       Aguadilla, PR   \n",
       "2  603  10380                       Aguadilla, PR   \n",
       "3  604  10380                       Aguadilla, PR   \n",
       "4  605  10380                       Aguadilla, PR   \n",
       "\n",
       "  Metropolitan/Micropolitan Statistical Area  \n",
       "0              Metropolitan Statistical Area  \n",
       "1              Metropolitan Statistical Area  \n",
       "2              Metropolitan Statistical Area  \n",
       "3              Metropolitan Statistical Area  \n",
       "4              Metropolitan Statistical Area  "
      ]
     },
     "execution_count": 49,
     "metadata": {},
     "output_type": "execute_result"
    }
   ],
   "source": [
    "cbsa.head()"
   ]
  },
  {
   "cell_type": "code",
   "execution_count": 50,
   "metadata": {},
   "outputs": [
    {
     "data": {
      "text/plain": [
       "(28545, 4)"
      ]
     },
     "execution_count": 50,
     "metadata": {},
     "output_type": "execute_result"
    }
   ],
   "source": [
    "cbsa.shape"
   ]
  },
  {
   "cell_type": "code",
   "execution_count": 51,
   "metadata": {},
   "outputs": [
    {
     "data": {
      "text/plain": [
       "0"
      ]
     },
     "execution_count": 51,
     "metadata": {},
     "output_type": "execute_result"
    }
   ],
   "source": [
    "cbsa['CBSA Title'].isna().sum()"
   ]
  },
  {
   "cell_type": "code",
   "execution_count": 52,
   "metadata": {},
   "outputs": [],
   "source": [
    "cbsa.to_csv(filepath+'Census//ZIP_CBSA_MSA.csv', index=False)"
   ]
  }
 ],
 "metadata": {
  "kernelspec": {
   "display_name": "capstone",
   "language": "python",
   "name": "python3"
  },
  "language_info": {
   "codemirror_mode": {
    "name": "ipython",
    "version": 3
   },
   "file_extension": ".py",
   "mimetype": "text/x-python",
   "name": "python",
   "nbconvert_exporter": "python",
   "pygments_lexer": "ipython3",
   "version": "3.10.14"
  }
 },
 "nbformat": 4,
 "nbformat_minor": 2
}
