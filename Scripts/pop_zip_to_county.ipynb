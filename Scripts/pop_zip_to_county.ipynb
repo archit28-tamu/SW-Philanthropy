{
 "cells": [
  {
   "cell_type": "code",
   "execution_count": 19,
   "metadata": {},
   "outputs": [],
   "source": [
    "import pandas as pd"
   ]
  },
  {
   "cell_type": "code",
   "execution_count": 27,
   "metadata": {},
   "outputs": [],
   "source": [
    "zip_county = pd.read_csv(\"C://Users//archi//OneDrive//Desktop//Fall 24//Capstone//Data//Census//zip_county_2.csv\")"
   ]
  },
  {
   "cell_type": "code",
   "execution_count": 28,
   "metadata": {},
   "outputs": [],
   "source": [
    "census = pd.read_csv(\"C://Users//archi//OneDrive//Desktop//Fall 24//Capstone//Data//Census//pop_comb_all_states.csv\")"
   ]
  },
  {
   "cell_type": "code",
   "execution_count": 14,
   "metadata": {},
   "outputs": [],
   "source": [
    "# zip_code_pop = pd.read_csv(\"C://Users//archi//OneDrive//Desktop//Fall 24//Capstone//Data//Census//zip_code_population.csv\")"
   ]
  },
  {
   "cell_type": "code",
   "execution_count": 16,
   "metadata": {},
   "outputs": [
    {
     "name": "stdout",
     "output_type": "stream",
     "text": [
      "   zip_code  P1_001N      ZIP              COUNTYNAME       county_name_lower\n",
      "0     99553   1589.0  99553.0  Aleutians East Borough  aleutians east borough\n",
      "1     99571     91.0  99571.0  Aleutians East Borough  aleutians east borough\n",
      "2     99583    394.0  99583.0  Aleutians East Borough  aleutians east borough\n",
      "3     99612    757.0  99612.0  Aleutians East Borough  aleutians east borough\n",
      "4     99661    579.0  99661.0  Aleutians East Borough  aleutians east borough\n",
      "\n",
      "\n",
      "***********\n",
      "\n",
      "\n",
      "   Unnamed: 0 Population2022    county    state Postal Code  County FIPS Code  \\\n",
      "0           0         59,726  Autauga   Alabama          AL               1.0   \n",
      "1           1        246,531  Baldwin   Alabama          AL               3.0   \n",
      "2           2         24,700  Barbour   Alabama          AL               5.0   \n",
      "3           3         21,986     Bibb   Alabama          AL               7.0   \n",
      "4           4         59,516   Blount   Alabama          AL               9.0   \n",
      "\n",
      "  Poverty Estimate Poverty Percent Median Household Income county_lower  \n",
      "0            6,988            11.8                  70,148     autauga   \n",
      "1           30,195            12.4                  71,704     baldwin   \n",
      "2            5,860            26.7                  41,151     barbour   \n",
      "3            3,979              20                  54,309        bibb   \n",
      "4            8,022            13.6                  60,553      blount   \n"
     ]
    }
   ],
   "source": [
    "# merged_df = pd.merge(zip_code_pop, zip_county[['ZIP', 'COUNTYNAME']], \n",
    "#                      left_on='zip_code', right_on='ZIP', how='left')\n",
    "\n",
    "# # merged_df['county_name_lower'] = merged_df['county_name'].str.lower()\n",
    "# merged_df['county_name_lower'] = merged_df['COUNTYNAME'].str.lower().str.replace(r'\\s+county$', '', regex=True)\n",
    "\n",
    "# census['county_lower'] = census['county'].str.lower()\n",
    "\n",
    "# print(merged_df.head())\n",
    "# print(\"\\n\\n***********\\n\\n\")\n",
    "# print(census.head())"
   ]
  },
  {
   "cell_type": "code",
   "execution_count": 20,
   "metadata": {},
   "outputs": [
    {
     "name": "stdout",
     "output_type": "stream",
     "text": [
      "   zip_code  P1_001N Population2022                  county   state  \\\n",
      "0     99553   1589.0          3,430  Aleutians East Borough  Alaska   \n",
      "1     99571     91.0          3,430  Aleutians East Borough  Alaska   \n",
      "2     99583    394.0          3,430  Aleutians East Borough  Alaska   \n",
      "3     99612    757.0          3,430  Aleutians East Borough  Alaska   \n",
      "4     99661    579.0          3,430  Aleutians East Borough  Alaska   \n",
      "\n",
      "  Poverty Estimate Poverty Percent Median Household Income  \n",
      "0              549            16.2                  85,852  \n",
      "1              549            16.2                  85,852  \n",
      "2              549            16.2                  85,852  \n",
      "3              549            16.2                  85,852  \n",
      "4              549            16.2                  85,852  \n"
     ]
    }
   ],
   "source": [
    "# final_df = pd.merge(merged_df, census[['county_lower', 'state', 'Population2022', \n",
    "#                                        'Poverty Estimate', 'Poverty Percent', \n",
    "#                                        'Median Household Income']],\n",
    "#                     left_on='county_name_lower', right_on='county_lower', how='left')\n",
    "\n",
    "# final_df['county'] = merged_df['COUNTYNAME']\n",
    "\n",
    "# final_output = final_df[['zip_code'] + zip_code_pop.columns.tolist()[1:] + \n",
    "#                     ['Population2022', 'county', 'state', \n",
    "#                      'Poverty Estimate', 'Poverty Percent', \n",
    "#                      'Median Household Income']]\n",
    "\n",
    "# final_output.to_csv('county_census.csv', index=False)\n",
    "\n",
    "# print(final_output.head())"
   ]
  },
  {
   "cell_type": "code",
   "execution_count": null,
   "metadata": {},
   "outputs": [],
   "source": []
  },
  {
   "cell_type": "code",
   "execution_count": null,
   "metadata": {},
   "outputs": [],
   "source": []
  },
  {
   "cell_type": "code",
   "execution_count": 29,
   "metadata": {},
   "outputs": [
    {
     "name": "stdout",
     "output_type": "stream",
     "text": [
      "     ZIP Population2022 county_lower    state Postal Code Poverty Estimate  \\\n",
      "0  36003         59,726      autauga  Alabama          al            6,988   \n",
      "1  36006         59,726      autauga  Alabama          al            6,988   \n",
      "2  36067         59,726      autauga  Alabama          al            6,988   \n",
      "3  36066         59,726      autauga  Alabama          al            6,988   \n",
      "4  36703         59,726      autauga  Alabama          al            6,988   \n",
      "\n",
      "  Poverty Percent Median Household Income  \n",
      "0            11.8                  70,148  \n",
      "1            11.8                  70,148  \n",
      "2            11.8                  70,148  \n",
      "3            11.8                  70,148  \n",
      "4            11.8                  70,148  \n"
     ]
    }
   ],
   "source": [
    "zip_county['county_lower'] = zip_county['COUNTYNAME'].str.lower().str.replace(r'\\s+county$', '', regex=True).str.strip()\n",
    "zip_county['STATE'] = zip_county['STATE'].str.lower().str.strip()\n",
    "\n",
    "census['county_lower'] = census['county'].str.lower().str.strip()\n",
    "census['Postal Code'] = census['Postal Code'].astype(str).str.lower().str.strip()\n",
    "\n",
    "final_df2 = pd.merge(zip_county[['ZIP', 'county_lower', 'STATE']], \n",
    "                    census[['county_lower', 'state', 'Postal Code', 'Population2022', \n",
    "                            'Poverty Estimate', 'Poverty Percent', 'Median Household Income']],\n",
    "                    left_on=['county_lower', 'STATE'],\n",
    "                    right_on=['county_lower', 'Postal Code'],\n",
    "                    how='left')\n",
    "\n",
    "final_output2 = final_df2[['ZIP', 'Population2022', 'county_lower', 'state', 'Postal Code',\n",
    "                         'Poverty Estimate', 'Poverty Percent', 'Median Household Income']]\n"
   ]
  },
  {
   "cell_type": "code",
   "execution_count": 30,
   "metadata": {},
   "outputs": [
    {
     "name": "stdout",
     "output_type": "stream",
     "text": [
      "     ZIP Population2022 county_lower    state Postal Code Poverty Estimate  \\\n",
      "0  36003         59,726      autauga  Alabama          al            6,988   \n",
      "1  36006         59,726      autauga  Alabama          al            6,988   \n",
      "2  36067         59,726      autauga  Alabama          al            6,988   \n",
      "3  36066         59,726      autauga  Alabama          al            6,988   \n",
      "4  36703         59,726      autauga  Alabama          al            6,988   \n",
      "\n",
      "  Poverty Percent Median Household Income  \n",
      "0            11.8                  70,148  \n",
      "1            11.8                  70,148  \n",
      "2            11.8                  70,148  \n",
      "3            11.8                  70,148  \n",
      "4            11.8                  70,148  \n",
      "(52889, 8)\n"
     ]
    }
   ],
   "source": [
    "print(final_output2.head())\n",
    "print(final_output2.shape)"
   ]
  },
  {
   "cell_type": "code",
   "execution_count": null,
   "metadata": {},
   "outputs": [],
   "source": [
    "final_output2.to_csv('county_census2.csv', index=False)"
   ]
  },
  {
   "cell_type": "code",
   "execution_count": null,
   "metadata": {},
   "outputs": [],
   "source": []
  },
  {
   "cell_type": "code",
   "execution_count": null,
   "metadata": {},
   "outputs": [],
   "source": []
  },
  {
   "cell_type": "markdown",
   "metadata": {},
   "source": [
    "Add county column in 990 data from zip_county_2"
   ]
  },
  {
   "cell_type": "code",
   "execution_count": 31,
   "metadata": {},
   "outputs": [
    {
     "name": "stdout",
     "output_type": "stream",
     "text": [
      "     ZIP        GM_County RecipientZIP      RecipientCounty\n",
      "0  85201  Maricopa County        85211      Maricopa County\n",
      "1  78721    Travis County        19123  Philadelphia County\n",
      "2  78721    Travis County        19072    Montgomery County\n",
      "3  78721    Travis County        78716        Travis County\n",
      "4  78721    Travis County        78218         Bexar County\n"
     ]
    }
   ],
   "source": [
    "df_990 = pd.read_csv(\"C://Users//archi//OneDrive//Desktop//Fall 24//Capstone//Data//consolidated_data//Form_990_Consolidated.csv\")\n",
    "zip_county_df = pd.read_csv(\"C://Users//archi//OneDrive//Desktop//Fall 24//Capstone//Data//Census//zip_county_2.csv\")\n",
    "\n",
    "df_990['ZIP'] = df_990['ZIP'].astype(int).astype(str).str.zfill(5)\n",
    "df_990['RecipientZIP'] = df_990['RecipientZIP'].fillna(0).astype(int).astype(str).str.zfill(5)\n",
    "zip_county_df['ZIP'] = zip_county_df['ZIP'].astype(int).astype(str).str.zfill(5)\n",
    "\n",
    "df_990 = df_990.merge(\n",
    "    zip_county_df[['ZIP', 'COUNTYNAME']].rename(columns={'COUNTYNAME': 'GM_County'}),\n",
    "    on='ZIP',\n",
    "    how='left'\n",
    ")\n",
    "\n",
    "df_990 = df_990.merge(\n",
    "    zip_county_df[['ZIP', 'COUNTYNAME']].rename(columns={'ZIP': 'RecipientZIP', 'COUNTYNAME': 'RecipientCounty'}),\n",
    "    on='RecipientZIP',\n",
    "    how='left'\n",
    ")\n",
    "\n",
    "columns = (\n",
    "    df_990.columns[:df_990.columns.get_loc('ZIP') + 1].tolist() +\n",
    "    ['GM_County'] +\n",
    "    df_990.columns[df_990.columns.get_loc('ZIP') + 1:df_990.columns.get_loc('RecipientZIP') + 1].tolist() +\n",
    "    ['RecipientCounty'] +\n",
    "    df_990.columns[df_990.columns.get_loc('RecipientZIP') + 1:-2].tolist()\n",
    ")\n",
    "\n",
    "df_990 = df_990[columns]\n",
    "\n",
    "print(df_990[['ZIP', 'GM_County', 'RecipientZIP', 'RecipientCounty']].head())"
   ]
  },
  {
   "cell_type": "code",
   "execution_count": 32,
   "metadata": {},
   "outputs": [],
   "source": [
    "df_990.drop_duplicates(subset=None, keep='first', inplace=True, ignore_index=False)\n",
    "df_990.to_csv('C://Users//archi//OneDrive//Desktop//Fall 24//Capstone//Data//consolidated_data//990_consolidated_w_county.csv', index=False)"
   ]
  },
  {
   "cell_type": "code",
   "execution_count": 23,
   "metadata": {},
   "outputs": [
    {
     "ename": "FileNotFoundError",
     "evalue": "[Errno 2] No such file or directory: 'C:/Users/archi/OneDrive/Desktop/Fall 24/Capstone/Data/consolidated_data/county_level_grant_amount.csv'",
     "output_type": "error",
     "traceback": [
      "\u001b[1;31m---------------------------------------------------------------------------\u001b[0m",
      "\u001b[1;31mFileNotFoundError\u001b[0m                         Traceback (most recent call last)",
      "Cell \u001b[1;32mIn[23], line 1\u001b[0m\n\u001b[1;32m----> 1\u001b[0m county_df \u001b[38;5;241m=\u001b[39m pd\u001b[38;5;241m.\u001b[39mread_csv(\u001b[38;5;124m\"\u001b[39m\u001b[38;5;124mC://Users//archi//OneDrive//Desktop//Fall 24//Capstone//Data//consolidated_data//county_level_grant_amount.csv\u001b[39m\u001b[38;5;124m\"\u001b[39m)\n\u001b[0;32m      3\u001b[0m years \u001b[38;5;241m=\u001b[39m [\u001b[38;5;241m2018\u001b[39m, \u001b[38;5;241m2019\u001b[39m, \u001b[38;5;241m2020\u001b[39m, \u001b[38;5;241m2021\u001b[39m, \u001b[38;5;241m2022\u001b[39m]\n\u001b[0;32m      5\u001b[0m county_df \u001b[38;5;241m=\u001b[39m county_df\u001b[38;5;241m.\u001b[39mloc[county_df\u001b[38;5;241m.\u001b[39mindex\u001b[38;5;241m.\u001b[39mrepeat(\u001b[38;5;28mlen\u001b[39m(years))]\u001b[38;5;241m.\u001b[39mreset_index(drop\u001b[38;5;241m=\u001b[39m\u001b[38;5;28;01mTrue\u001b[39;00m)\n",
      "File \u001b[1;32mc:\\ProgramData\\anaconda3\\Lib\\site-packages\\pandas\\util\\_decorators.py:211\u001b[0m, in \u001b[0;36mdeprecate_kwarg.<locals>._deprecate_kwarg.<locals>.wrapper\u001b[1;34m(*args, **kwargs)\u001b[0m\n\u001b[0;32m    209\u001b[0m     \u001b[38;5;28;01melse\u001b[39;00m:\n\u001b[0;32m    210\u001b[0m         kwargs[new_arg_name] \u001b[38;5;241m=\u001b[39m new_arg_value\n\u001b[1;32m--> 211\u001b[0m \u001b[38;5;28;01mreturn\u001b[39;00m func(\u001b[38;5;241m*\u001b[39margs, \u001b[38;5;241m*\u001b[39m\u001b[38;5;241m*\u001b[39mkwargs)\n",
      "File \u001b[1;32mc:\\ProgramData\\anaconda3\\Lib\\site-packages\\pandas\\util\\_decorators.py:331\u001b[0m, in \u001b[0;36mdeprecate_nonkeyword_arguments.<locals>.decorate.<locals>.wrapper\u001b[1;34m(*args, **kwargs)\u001b[0m\n\u001b[0;32m    325\u001b[0m \u001b[38;5;28;01mif\u001b[39;00m \u001b[38;5;28mlen\u001b[39m(args) \u001b[38;5;241m>\u001b[39m num_allow_args:\n\u001b[0;32m    326\u001b[0m     warnings\u001b[38;5;241m.\u001b[39mwarn(\n\u001b[0;32m    327\u001b[0m         msg\u001b[38;5;241m.\u001b[39mformat(arguments\u001b[38;5;241m=\u001b[39m_format_argument_list(allow_args)),\n\u001b[0;32m    328\u001b[0m         \u001b[38;5;167;01mFutureWarning\u001b[39;00m,\n\u001b[0;32m    329\u001b[0m         stacklevel\u001b[38;5;241m=\u001b[39mfind_stack_level(),\n\u001b[0;32m    330\u001b[0m     )\n\u001b[1;32m--> 331\u001b[0m \u001b[38;5;28;01mreturn\u001b[39;00m func(\u001b[38;5;241m*\u001b[39margs, \u001b[38;5;241m*\u001b[39m\u001b[38;5;241m*\u001b[39mkwargs)\n",
      "File \u001b[1;32mc:\\ProgramData\\anaconda3\\Lib\\site-packages\\pandas\\io\\parsers\\readers.py:950\u001b[0m, in \u001b[0;36mread_csv\u001b[1;34m(filepath_or_buffer, sep, delimiter, header, names, index_col, usecols, squeeze, prefix, mangle_dupe_cols, dtype, engine, converters, true_values, false_values, skipinitialspace, skiprows, skipfooter, nrows, na_values, keep_default_na, na_filter, verbose, skip_blank_lines, parse_dates, infer_datetime_format, keep_date_col, date_parser, dayfirst, cache_dates, iterator, chunksize, compression, thousands, decimal, lineterminator, quotechar, quoting, doublequote, escapechar, comment, encoding, encoding_errors, dialect, error_bad_lines, warn_bad_lines, on_bad_lines, delim_whitespace, low_memory, memory_map, float_precision, storage_options)\u001b[0m\n\u001b[0;32m    935\u001b[0m kwds_defaults \u001b[38;5;241m=\u001b[39m _refine_defaults_read(\n\u001b[0;32m    936\u001b[0m     dialect,\n\u001b[0;32m    937\u001b[0m     delimiter,\n\u001b[1;32m   (...)\u001b[0m\n\u001b[0;32m    946\u001b[0m     defaults\u001b[38;5;241m=\u001b[39m{\u001b[38;5;124m\"\u001b[39m\u001b[38;5;124mdelimiter\u001b[39m\u001b[38;5;124m\"\u001b[39m: \u001b[38;5;124m\"\u001b[39m\u001b[38;5;124m,\u001b[39m\u001b[38;5;124m\"\u001b[39m},\n\u001b[0;32m    947\u001b[0m )\n\u001b[0;32m    948\u001b[0m kwds\u001b[38;5;241m.\u001b[39mupdate(kwds_defaults)\n\u001b[1;32m--> 950\u001b[0m \u001b[38;5;28;01mreturn\u001b[39;00m _read(filepath_or_buffer, kwds)\n",
      "File \u001b[1;32mc:\\ProgramData\\anaconda3\\Lib\\site-packages\\pandas\\io\\parsers\\readers.py:605\u001b[0m, in \u001b[0;36m_read\u001b[1;34m(filepath_or_buffer, kwds)\u001b[0m\n\u001b[0;32m    602\u001b[0m _validate_names(kwds\u001b[38;5;241m.\u001b[39mget(\u001b[38;5;124m\"\u001b[39m\u001b[38;5;124mnames\u001b[39m\u001b[38;5;124m\"\u001b[39m, \u001b[38;5;28;01mNone\u001b[39;00m))\n\u001b[0;32m    604\u001b[0m \u001b[38;5;66;03m# Create the parser.\u001b[39;00m\n\u001b[1;32m--> 605\u001b[0m parser \u001b[38;5;241m=\u001b[39m TextFileReader(filepath_or_buffer, \u001b[38;5;241m*\u001b[39m\u001b[38;5;241m*\u001b[39mkwds)\n\u001b[0;32m    607\u001b[0m \u001b[38;5;28;01mif\u001b[39;00m chunksize \u001b[38;5;129;01mor\u001b[39;00m iterator:\n\u001b[0;32m    608\u001b[0m     \u001b[38;5;28;01mreturn\u001b[39;00m parser\n",
      "File \u001b[1;32mc:\\ProgramData\\anaconda3\\Lib\\site-packages\\pandas\\io\\parsers\\readers.py:1442\u001b[0m, in \u001b[0;36mTextFileReader.__init__\u001b[1;34m(self, f, engine, **kwds)\u001b[0m\n\u001b[0;32m   1439\u001b[0m     \u001b[38;5;28mself\u001b[39m\u001b[38;5;241m.\u001b[39moptions[\u001b[38;5;124m\"\u001b[39m\u001b[38;5;124mhas_index_names\u001b[39m\u001b[38;5;124m\"\u001b[39m] \u001b[38;5;241m=\u001b[39m kwds[\u001b[38;5;124m\"\u001b[39m\u001b[38;5;124mhas_index_names\u001b[39m\u001b[38;5;124m\"\u001b[39m]\n\u001b[0;32m   1441\u001b[0m \u001b[38;5;28mself\u001b[39m\u001b[38;5;241m.\u001b[39mhandles: IOHandles \u001b[38;5;241m|\u001b[39m \u001b[38;5;28;01mNone\u001b[39;00m \u001b[38;5;241m=\u001b[39m \u001b[38;5;28;01mNone\u001b[39;00m\n\u001b[1;32m-> 1442\u001b[0m \u001b[38;5;28mself\u001b[39m\u001b[38;5;241m.\u001b[39m_engine \u001b[38;5;241m=\u001b[39m \u001b[38;5;28mself\u001b[39m\u001b[38;5;241m.\u001b[39m_make_engine(f, \u001b[38;5;28mself\u001b[39m\u001b[38;5;241m.\u001b[39mengine)\n",
      "File \u001b[1;32mc:\\ProgramData\\anaconda3\\Lib\\site-packages\\pandas\\io\\parsers\\readers.py:1735\u001b[0m, in \u001b[0;36mTextFileReader._make_engine\u001b[1;34m(self, f, engine)\u001b[0m\n\u001b[0;32m   1733\u001b[0m     \u001b[38;5;28;01mif\u001b[39;00m \u001b[38;5;124m\"\u001b[39m\u001b[38;5;124mb\u001b[39m\u001b[38;5;124m\"\u001b[39m \u001b[38;5;129;01mnot\u001b[39;00m \u001b[38;5;129;01min\u001b[39;00m mode:\n\u001b[0;32m   1734\u001b[0m         mode \u001b[38;5;241m+\u001b[39m\u001b[38;5;241m=\u001b[39m \u001b[38;5;124m\"\u001b[39m\u001b[38;5;124mb\u001b[39m\u001b[38;5;124m\"\u001b[39m\n\u001b[1;32m-> 1735\u001b[0m \u001b[38;5;28mself\u001b[39m\u001b[38;5;241m.\u001b[39mhandles \u001b[38;5;241m=\u001b[39m get_handle(\n\u001b[0;32m   1736\u001b[0m     f,\n\u001b[0;32m   1737\u001b[0m     mode,\n\u001b[0;32m   1738\u001b[0m     encoding\u001b[38;5;241m=\u001b[39m\u001b[38;5;28mself\u001b[39m\u001b[38;5;241m.\u001b[39moptions\u001b[38;5;241m.\u001b[39mget(\u001b[38;5;124m\"\u001b[39m\u001b[38;5;124mencoding\u001b[39m\u001b[38;5;124m\"\u001b[39m, \u001b[38;5;28;01mNone\u001b[39;00m),\n\u001b[0;32m   1739\u001b[0m     compression\u001b[38;5;241m=\u001b[39m\u001b[38;5;28mself\u001b[39m\u001b[38;5;241m.\u001b[39moptions\u001b[38;5;241m.\u001b[39mget(\u001b[38;5;124m\"\u001b[39m\u001b[38;5;124mcompression\u001b[39m\u001b[38;5;124m\"\u001b[39m, \u001b[38;5;28;01mNone\u001b[39;00m),\n\u001b[0;32m   1740\u001b[0m     memory_map\u001b[38;5;241m=\u001b[39m\u001b[38;5;28mself\u001b[39m\u001b[38;5;241m.\u001b[39moptions\u001b[38;5;241m.\u001b[39mget(\u001b[38;5;124m\"\u001b[39m\u001b[38;5;124mmemory_map\u001b[39m\u001b[38;5;124m\"\u001b[39m, \u001b[38;5;28;01mFalse\u001b[39;00m),\n\u001b[0;32m   1741\u001b[0m     is_text\u001b[38;5;241m=\u001b[39mis_text,\n\u001b[0;32m   1742\u001b[0m     errors\u001b[38;5;241m=\u001b[39m\u001b[38;5;28mself\u001b[39m\u001b[38;5;241m.\u001b[39moptions\u001b[38;5;241m.\u001b[39mget(\u001b[38;5;124m\"\u001b[39m\u001b[38;5;124mencoding_errors\u001b[39m\u001b[38;5;124m\"\u001b[39m, \u001b[38;5;124m\"\u001b[39m\u001b[38;5;124mstrict\u001b[39m\u001b[38;5;124m\"\u001b[39m),\n\u001b[0;32m   1743\u001b[0m     storage_options\u001b[38;5;241m=\u001b[39m\u001b[38;5;28mself\u001b[39m\u001b[38;5;241m.\u001b[39moptions\u001b[38;5;241m.\u001b[39mget(\u001b[38;5;124m\"\u001b[39m\u001b[38;5;124mstorage_options\u001b[39m\u001b[38;5;124m\"\u001b[39m, \u001b[38;5;28;01mNone\u001b[39;00m),\n\u001b[0;32m   1744\u001b[0m )\n\u001b[0;32m   1745\u001b[0m \u001b[38;5;28;01massert\u001b[39;00m \u001b[38;5;28mself\u001b[39m\u001b[38;5;241m.\u001b[39mhandles \u001b[38;5;129;01mis\u001b[39;00m \u001b[38;5;129;01mnot\u001b[39;00m \u001b[38;5;28;01mNone\u001b[39;00m\n\u001b[0;32m   1746\u001b[0m f \u001b[38;5;241m=\u001b[39m \u001b[38;5;28mself\u001b[39m\u001b[38;5;241m.\u001b[39mhandles\u001b[38;5;241m.\u001b[39mhandle\n",
      "File \u001b[1;32mc:\\ProgramData\\anaconda3\\Lib\\site-packages\\pandas\\io\\common.py:713\u001b[0m, in \u001b[0;36mget_handle\u001b[1;34m(path_or_buf, mode, encoding, compression, memory_map, is_text, errors, storage_options)\u001b[0m\n\u001b[0;32m    710\u001b[0m     codecs\u001b[38;5;241m.\u001b[39mlookup_error(errors)\n\u001b[0;32m    712\u001b[0m \u001b[38;5;66;03m# open URLs\u001b[39;00m\n\u001b[1;32m--> 713\u001b[0m ioargs \u001b[38;5;241m=\u001b[39m _get_filepath_or_buffer(\n\u001b[0;32m    714\u001b[0m     path_or_buf,\n\u001b[0;32m    715\u001b[0m     encoding\u001b[38;5;241m=\u001b[39mencoding,\n\u001b[0;32m    716\u001b[0m     compression\u001b[38;5;241m=\u001b[39mcompression,\n\u001b[0;32m    717\u001b[0m     mode\u001b[38;5;241m=\u001b[39mmode,\n\u001b[0;32m    718\u001b[0m     storage_options\u001b[38;5;241m=\u001b[39mstorage_options,\n\u001b[0;32m    719\u001b[0m )\n\u001b[0;32m    721\u001b[0m handle \u001b[38;5;241m=\u001b[39m ioargs\u001b[38;5;241m.\u001b[39mfilepath_or_buffer\n\u001b[0;32m    722\u001b[0m handles: \u001b[38;5;28mlist\u001b[39m[BaseBuffer]\n",
      "File \u001b[1;32mc:\\ProgramData\\anaconda3\\Lib\\site-packages\\pandas\\io\\common.py:411\u001b[0m, in \u001b[0;36m_get_filepath_or_buffer\u001b[1;34m(filepath_or_buffer, encoding, compression, mode, storage_options)\u001b[0m\n\u001b[0;32m    406\u001b[0m     \u001b[38;5;28;01mpass\u001b[39;00m\n\u001b[0;32m    408\u001b[0m \u001b[38;5;28;01mtry\u001b[39;00m:\n\u001b[0;32m    409\u001b[0m     file_obj \u001b[38;5;241m=\u001b[39m fsspec\u001b[38;5;241m.\u001b[39mopen(\n\u001b[0;32m    410\u001b[0m         filepath_or_buffer, mode\u001b[38;5;241m=\u001b[39mfsspec_mode, \u001b[38;5;241m*\u001b[39m\u001b[38;5;241m*\u001b[39m(storage_options \u001b[38;5;129;01mor\u001b[39;00m {})\n\u001b[1;32m--> 411\u001b[0m     )\u001b[38;5;241m.\u001b[39mopen()\n\u001b[0;32m    412\u001b[0m \u001b[38;5;66;03m# GH 34626 Reads from Public Buckets without Credentials needs anon=True\u001b[39;00m\n\u001b[0;32m    413\u001b[0m \u001b[38;5;28;01mexcept\u001b[39;00m \u001b[38;5;28mtuple\u001b[39m(err_types_to_retry_with_anon):\n",
      "File \u001b[1;32mc:\\ProgramData\\anaconda3\\Lib\\site-packages\\fsspec\\core.py:134\u001b[0m, in \u001b[0;36mOpenFile.open\u001b[1;34m(self)\u001b[0m\n\u001b[0;32m    127\u001b[0m \u001b[38;5;28;01mdef\u001b[39;00m \u001b[38;5;21mopen\u001b[39m(\u001b[38;5;28mself\u001b[39m):\n\u001b[0;32m    128\u001b[0m \u001b[38;5;250m    \u001b[39m\u001b[38;5;124;03m\"\"\"Materialise this as a real open file without context\u001b[39;00m\n\u001b[0;32m    129\u001b[0m \n\u001b[0;32m    130\u001b[0m \u001b[38;5;124;03m    The OpenFile object should be explicitly closed to avoid enclosed file\u001b[39;00m\n\u001b[0;32m    131\u001b[0m \u001b[38;5;124;03m    instances persisting. You must, therefore, keep a reference to the OpenFile\u001b[39;00m\n\u001b[0;32m    132\u001b[0m \u001b[38;5;124;03m    during the life of the file-like it generates.\u001b[39;00m\n\u001b[0;32m    133\u001b[0m \u001b[38;5;124;03m    \"\"\"\u001b[39;00m\n\u001b[1;32m--> 134\u001b[0m     \u001b[38;5;28;01mreturn\u001b[39;00m \u001b[38;5;28mself\u001b[39m\u001b[38;5;241m.\u001b[39m\u001b[38;5;21m__enter__\u001b[39m()\n",
      "File \u001b[1;32mc:\\ProgramData\\anaconda3\\Lib\\site-packages\\fsspec\\core.py:102\u001b[0m, in \u001b[0;36mOpenFile.__enter__\u001b[1;34m(self)\u001b[0m\n\u001b[0;32m     99\u001b[0m \u001b[38;5;28;01mdef\u001b[39;00m \u001b[38;5;21m__enter__\u001b[39m(\u001b[38;5;28mself\u001b[39m):\n\u001b[0;32m    100\u001b[0m     mode \u001b[38;5;241m=\u001b[39m \u001b[38;5;28mself\u001b[39m\u001b[38;5;241m.\u001b[39mmode\u001b[38;5;241m.\u001b[39mreplace(\u001b[38;5;124m\"\u001b[39m\u001b[38;5;124mt\u001b[39m\u001b[38;5;124m\"\u001b[39m, \u001b[38;5;124m\"\u001b[39m\u001b[38;5;124m\"\u001b[39m)\u001b[38;5;241m.\u001b[39mreplace(\u001b[38;5;124m\"\u001b[39m\u001b[38;5;124mb\u001b[39m\u001b[38;5;124m\"\u001b[39m, \u001b[38;5;124m\"\u001b[39m\u001b[38;5;124m\"\u001b[39m) \u001b[38;5;241m+\u001b[39m \u001b[38;5;124m\"\u001b[39m\u001b[38;5;124mb\u001b[39m\u001b[38;5;124m\"\u001b[39m\n\u001b[1;32m--> 102\u001b[0m     f \u001b[38;5;241m=\u001b[39m \u001b[38;5;28mself\u001b[39m\u001b[38;5;241m.\u001b[39mfs\u001b[38;5;241m.\u001b[39mopen(\u001b[38;5;28mself\u001b[39m\u001b[38;5;241m.\u001b[39mpath, mode\u001b[38;5;241m=\u001b[39mmode)\n\u001b[0;32m    104\u001b[0m     \u001b[38;5;28mself\u001b[39m\u001b[38;5;241m.\u001b[39mfobjects \u001b[38;5;241m=\u001b[39m [f]\n\u001b[0;32m    106\u001b[0m     \u001b[38;5;28;01mif\u001b[39;00m \u001b[38;5;28mself\u001b[39m\u001b[38;5;241m.\u001b[39mcompression \u001b[38;5;129;01mis\u001b[39;00m \u001b[38;5;129;01mnot\u001b[39;00m \u001b[38;5;28;01mNone\u001b[39;00m:\n",
      "File \u001b[1;32mc:\\ProgramData\\anaconda3\\Lib\\site-packages\\fsspec\\spec.py:1151\u001b[0m, in \u001b[0;36mAbstractFileSystem.open\u001b[1;34m(self, path, mode, block_size, cache_options, compression, **kwargs)\u001b[0m\n\u001b[0;32m   1149\u001b[0m \u001b[38;5;28;01melse\u001b[39;00m:\n\u001b[0;32m   1150\u001b[0m     ac \u001b[38;5;241m=\u001b[39m kwargs\u001b[38;5;241m.\u001b[39mpop(\u001b[38;5;124m\"\u001b[39m\u001b[38;5;124mautocommit\u001b[39m\u001b[38;5;124m\"\u001b[39m, \u001b[38;5;129;01mnot\u001b[39;00m \u001b[38;5;28mself\u001b[39m\u001b[38;5;241m.\u001b[39m_intrans)\n\u001b[1;32m-> 1151\u001b[0m     f \u001b[38;5;241m=\u001b[39m \u001b[38;5;28mself\u001b[39m\u001b[38;5;241m.\u001b[39m_open(\n\u001b[0;32m   1152\u001b[0m         path,\n\u001b[0;32m   1153\u001b[0m         mode\u001b[38;5;241m=\u001b[39mmode,\n\u001b[0;32m   1154\u001b[0m         block_size\u001b[38;5;241m=\u001b[39mblock_size,\n\u001b[0;32m   1155\u001b[0m         autocommit\u001b[38;5;241m=\u001b[39mac,\n\u001b[0;32m   1156\u001b[0m         cache_options\u001b[38;5;241m=\u001b[39mcache_options,\n\u001b[0;32m   1157\u001b[0m         \u001b[38;5;241m*\u001b[39m\u001b[38;5;241m*\u001b[39mkwargs,\n\u001b[0;32m   1158\u001b[0m     )\n\u001b[0;32m   1159\u001b[0m     \u001b[38;5;28;01mif\u001b[39;00m compression \u001b[38;5;129;01mis\u001b[39;00m \u001b[38;5;129;01mnot\u001b[39;00m \u001b[38;5;28;01mNone\u001b[39;00m:\n\u001b[0;32m   1160\u001b[0m         \u001b[38;5;28;01mfrom\u001b[39;00m \u001b[38;5;21;01mfsspec\u001b[39;00m\u001b[38;5;21;01m.\u001b[39;00m\u001b[38;5;21;01mcompression\u001b[39;00m \u001b[38;5;28;01mimport\u001b[39;00m compr\n",
      "File \u001b[1;32mc:\\ProgramData\\anaconda3\\Lib\\site-packages\\fsspec\\implementations\\local.py:183\u001b[0m, in \u001b[0;36mLocalFileSystem._open\u001b[1;34m(self, path, mode, block_size, **kwargs)\u001b[0m\n\u001b[0;32m    181\u001b[0m \u001b[38;5;28;01mif\u001b[39;00m \u001b[38;5;28mself\u001b[39m\u001b[38;5;241m.\u001b[39mauto_mkdir \u001b[38;5;129;01mand\u001b[39;00m \u001b[38;5;124m\"\u001b[39m\u001b[38;5;124mw\u001b[39m\u001b[38;5;124m\"\u001b[39m \u001b[38;5;129;01min\u001b[39;00m mode:\n\u001b[0;32m    182\u001b[0m     \u001b[38;5;28mself\u001b[39m\u001b[38;5;241m.\u001b[39mmakedirs(\u001b[38;5;28mself\u001b[39m\u001b[38;5;241m.\u001b[39m_parent(path), exist_ok\u001b[38;5;241m=\u001b[39m\u001b[38;5;28;01mTrue\u001b[39;00m)\n\u001b[1;32m--> 183\u001b[0m \u001b[38;5;28;01mreturn\u001b[39;00m LocalFileOpener(path, mode, fs\u001b[38;5;241m=\u001b[39m\u001b[38;5;28mself\u001b[39m, \u001b[38;5;241m*\u001b[39m\u001b[38;5;241m*\u001b[39mkwargs)\n",
      "File \u001b[1;32mc:\\ProgramData\\anaconda3\\Lib\\site-packages\\fsspec\\implementations\\local.py:285\u001b[0m, in \u001b[0;36mLocalFileOpener.__init__\u001b[1;34m(self, path, mode, autocommit, fs, compression, **kwargs)\u001b[0m\n\u001b[0;32m    283\u001b[0m \u001b[38;5;28mself\u001b[39m\u001b[38;5;241m.\u001b[39mcompression \u001b[38;5;241m=\u001b[39m get_compression(path, compression)\n\u001b[0;32m    284\u001b[0m \u001b[38;5;28mself\u001b[39m\u001b[38;5;241m.\u001b[39mblocksize \u001b[38;5;241m=\u001b[39m io\u001b[38;5;241m.\u001b[39mDEFAULT_BUFFER_SIZE\n\u001b[1;32m--> 285\u001b[0m \u001b[38;5;28mself\u001b[39m\u001b[38;5;241m.\u001b[39m_open()\n",
      "File \u001b[1;32mc:\\ProgramData\\anaconda3\\Lib\\site-packages\\fsspec\\implementations\\local.py:290\u001b[0m, in \u001b[0;36mLocalFileOpener._open\u001b[1;34m(self)\u001b[0m\n\u001b[0;32m    288\u001b[0m \u001b[38;5;28;01mif\u001b[39;00m \u001b[38;5;28mself\u001b[39m\u001b[38;5;241m.\u001b[39mf \u001b[38;5;129;01mis\u001b[39;00m \u001b[38;5;28;01mNone\u001b[39;00m \u001b[38;5;129;01mor\u001b[39;00m \u001b[38;5;28mself\u001b[39m\u001b[38;5;241m.\u001b[39mf\u001b[38;5;241m.\u001b[39mclosed:\n\u001b[0;32m    289\u001b[0m     \u001b[38;5;28;01mif\u001b[39;00m \u001b[38;5;28mself\u001b[39m\u001b[38;5;241m.\u001b[39mautocommit \u001b[38;5;129;01mor\u001b[39;00m \u001b[38;5;124m\"\u001b[39m\u001b[38;5;124mw\u001b[39m\u001b[38;5;124m\"\u001b[39m \u001b[38;5;129;01mnot\u001b[39;00m \u001b[38;5;129;01min\u001b[39;00m \u001b[38;5;28mself\u001b[39m\u001b[38;5;241m.\u001b[39mmode:\n\u001b[1;32m--> 290\u001b[0m         \u001b[38;5;28mself\u001b[39m\u001b[38;5;241m.\u001b[39mf \u001b[38;5;241m=\u001b[39m \u001b[38;5;28mopen\u001b[39m(\u001b[38;5;28mself\u001b[39m\u001b[38;5;241m.\u001b[39mpath, mode\u001b[38;5;241m=\u001b[39m\u001b[38;5;28mself\u001b[39m\u001b[38;5;241m.\u001b[39mmode)\n\u001b[0;32m    291\u001b[0m         \u001b[38;5;28;01mif\u001b[39;00m \u001b[38;5;28mself\u001b[39m\u001b[38;5;241m.\u001b[39mcompression:\n\u001b[0;32m    292\u001b[0m             compress \u001b[38;5;241m=\u001b[39m compr[\u001b[38;5;28mself\u001b[39m\u001b[38;5;241m.\u001b[39mcompression]\n",
      "\u001b[1;31mFileNotFoundError\u001b[0m: [Errno 2] No such file or directory: 'C:/Users/archi/OneDrive/Desktop/Fall 24/Capstone/Data/consolidated_data/county_level_grant_amount.csv'"
     ]
    }
   ],
   "source": [
    "county_df = pd.read_csv(\"C://Users//archi//OneDrive//Desktop//Fall 24//Capstone//Data//consolidated_data//county_year.csv\")\n",
    "\n",
    "years = [2018, 2019, 2020, 2021, 2022]\n",
    "\n",
    "county_df = county_df.loc[county_df.index.repeat(len(years))].reset_index(drop=True)\n",
    "\n",
    "county_df['year'] = [years[i % len(years)] for i in range(len(county_df))]\n",
    "\n",
    "print(county_df.head())"
   ]
  },
  {
   "cell_type": "code",
   "execution_count": 33,
   "metadata": {},
   "outputs": [],
   "source": [
    "county_df = pd.read_csv(\"C://Users//archi//OneDrive//Desktop//Fall 24//Capstone//Data//consolidated_data//county_level_grants.csv\")"
   ]
  },
  {
   "cell_type": "code",
   "execution_count": 34,
   "metadata": {},
   "outputs": [
    {
     "name": "stdout",
     "output_type": "stream",
     "text": [
      "    county state  year  Grants_Made_Amount  Grants_Received_Amount\n",
      "0  autauga    AL  2018                 0.0                     0.0\n",
      "1  autauga    AL  2019                 0.0                  7350.0\n",
      "2  autauga    AL  2020                 0.0                 57050.0\n",
      "3  autauga    AL  2021                 0.0                 68000.0\n",
      "4  autauga    AL  2022                 0.0                442600.0\n"
     ]
    }
   ],
   "source": [
    "df_990['GM_County'] = df_990['GM_County'].str.lower().str.replace(r'\\s+county$', '', regex=True).str.strip()\n",
    "df_990['RecipientCounty'] = df_990['RecipientCounty'].str.lower().str.replace(r'\\s+county$', '', regex=True).str.strip()\n",
    "county_df['county'] = county_df['county'].str.lower().str.replace(r'\\s+county$', '', regex=True).str.strip()\n",
    "county_df['state'] = county_df['state'].str.strip()\n",
    "\n",
    "grants_made = df_990.groupby(['GM_County', 'TaxYear', 'State'])['GrantsAndAllocations'].sum().reset_index()\n",
    "grants_received = df_990.groupby(['RecipientCounty', 'TaxYear', 'RecipientState'])['TotalGrantAmount'].sum().reset_index()\n",
    "\n",
    "grants_made = grants_made.rename(columns={'GM_County': 'county', 'TaxYear': 'year', 'State': 'state', 'GrantsAndAllocations': 'Grants_Made_Amount'})\n",
    "grants_received = grants_received.rename(columns={'RecipientCounty': 'county', 'TaxYear': 'year', 'RecipientState': 'state', 'TotalGrantAmount': 'Grants_Received_Amount'})\n",
    "\n",
    "county_grants = pd.merge(county_df, grants_made, on=['county', 'year', 'state'], how='left')\n",
    "county_grants = pd.merge(county_grants, grants_received, on=['county', 'year', 'state'], how='left')\n",
    "\n",
    "county_grants['Grants_Made_Amount'] = county_grants['Grants_Made_Amount'].fillna(0)\n",
    "county_grants['Grants_Received_Amount'] = county_grants['Grants_Received_Amount'].fillna(0)\n",
    "\n",
    "county_grants = county_grants[['county', 'state', 'year', 'Grants_Made_Amount', 'Grants_Received_Amount']]\n",
    "\n",
    "print(county_grants.head())"
   ]
  },
  {
   "cell_type": "code",
   "execution_count": 35,
   "metadata": {},
   "outputs": [],
   "source": [
    "county_grants.to_csv('C://Users//archi//OneDrive//Desktop//Fall 24//Capstone//Data//consolidated_data//county_level_grants.csv', index=False)"
   ]
  },
  {
   "cell_type": "code",
   "execution_count": 36,
   "metadata": {},
   "outputs": [
    {
     "name": "stdout",
     "output_type": "stream",
     "text": [
      "          county state  year  Grants_Made_Amount  Grants_Received_Amount\n",
      "11687  fairfield    SC  2020                 0.0                  5500.0\n",
      "3773      newton    IN  2021                 0.0                 13000.0\n",
      "13610  robertson    TX  2018                 0.0                     0.0\n",
      "1203      tulare    CA  2021                 0.0                 71500.0\n",
      "13997     sevier    UT  2020                 0.0                     0.0\n"
     ]
    }
   ],
   "source": [
    "county_grants_sample = county_grants.sample(n=10000)\n",
    "print(county_grants_sample.head())\n",
    "county_grants_sample.to_csv('C://Users//archi//OneDrive//Desktop//Fall 24//Capstone//Data//consolidated_data//county_level_grants_sample.csv', index=False)\n"
   ]
  },
  {
   "cell_type": "code",
   "execution_count": 37,
   "metadata": {},
   "outputs": [
    {
     "name": "stdout",
     "output_type": "stream",
     "text": [
      "              EIN                    BusinessName    NTEE_BMF NTEE_IRS  \\\n",
      "228050  752890371           THE DALLAS FOUNDATION  PSB-T31-RG      T31   \n",
      "88341   731184980  COMMUNITY FOOD BANK OF EASTERN         NaN     K31Z   \n",
      "56212   731554474      TULSA COMMUNITY FOUNDATION  PSB-T31-RG     T310   \n",
      "50761   464569055     FIELDS & FUTURES FOUNDATION  HMS-N00-MM      N12   \n",
      "187674  510157964      COMMUNITY FIRST FOUNDATION  PSB-T31-RG      T31   \n",
      "\n",
      "                             Address    City State    ZIP  GM_County  TaxYear  \\\n",
      "228050      3000 PEGASUS PARK DR 930  DALLAS    TX  75247     dallas     2022   \n",
      "88341          1304 N KENOSHA AVENUE   TULSA    OK  74106      tulsa     2019   \n",
      "56212          7030 S YALE SUITE 600   TULSA    OK  74136      tulsa     2020   \n",
      "50761           7001 NW 164TH STREET  EDMOND    OK  73013   oklahoma     2020   \n",
      "187674  5855 WADSWORTH BYPASS UNIT A  ARVADA    CO  80003  jefferson     2021   \n",
      "\n",
      "        ...          RecipientAddress  RecipientCity  RecipientState  \\\n",
      "228050  ...              PO BOX 12441        JACKSON              TN   \n",
      "88341   ...          315 W COLLEGE ST   BROKEN ARROW              OK   \n",
      "56212   ...          501N DOUGLAS AVE  OKLAHOMA CITY              OK   \n",
      "50761   ...              PO BOX 36609  OKLAHOMA CITY              OK   \n",
      "187674  ...  2755 S LOCUST ST STE 220         DENVER              CO   \n",
      "\n",
      "        RecipientZIP  RecipientCounty CashGrantAmount  NonCashGrantAmount  \\\n",
      "228050         38308          madison         55000.0                 0.0   \n",
      "88341          74012            tulsa             0.0            520283.0   \n",
      "56212          73106         oklahoma         31250.0                 0.0   \n",
      "50761          73136         oklahoma             0.0               955.0   \n",
      "187674         80222         arapahoe         80366.0                 0.0   \n",
      "\n",
      "                 MethodOfNonCashGrant  \\\n",
      "228050                            NaN   \n",
      "88341                   FOOD PRODUCTS   \n",
      "56212                             NaN   \n",
      "50761   ATHLETIC FACILITY MAINTENANCE   \n",
      "187674                            NaN   \n",
      "\n",
      "                                        GrantPurpose TotalGrantAmount  \n",
      "228050                               GENERAL SUPPORT          55000.0  \n",
      "88341                        ASSISTANCE TO THE NEEDY         520283.0  \n",
      "56212                             GENERAL OPERATIONS          31250.0  \n",
      "50761   ATHLETIC FACILITY MAINTENANCE AT DOUGLASS HS            955.0  \n",
      "187674                               GENERAL PURPOSE          80366.0  \n",
      "\n",
      "[5 rows x 30 columns]\n"
     ]
    }
   ],
   "source": [
    "df_990_2_county_sample = df_990.sample(n=10000)\n",
    "print(df_990_2_county_sample.head())\n",
    "df_990_2_county_sample.to_csv('C://Users//archi//OneDrive//Desktop//Fall 24//Capstone//Data//consolidated_data//df_990_2_county_sample.csv', index=False)\n"
   ]
  },
  {
   "cell_type": "code",
   "execution_count": null,
   "metadata": {},
   "outputs": [],
   "source": []
  },
  {
   "cell_type": "code",
   "execution_count": null,
   "metadata": {},
   "outputs": [],
   "source": []
  },
  {
   "cell_type": "markdown",
   "metadata": {},
   "source": [
    "Joining Population to County Level"
   ]
  },
  {
   "cell_type": "code",
   "execution_count": 46,
   "metadata": {},
   "outputs": [
    {
     "name": "stdout",
     "output_type": "stream",
     "text": [
      "    county    STATE  ST  year  Grants_Made_Amount  Grants_Received_Amount  \\\n",
      "0  autauga  Alabama  AL  2018                 0.0                     0.0   \n",
      "1  autauga  Alabama  AL  2018                 0.0                     0.0   \n",
      "2  autauga  Alabama  AL  2018                 0.0                     0.0   \n",
      "3  autauga  Alabama  AL  2018                 0.0                     0.0   \n",
      "4  autauga  Alabama  AL  2018                 0.0                     0.0   \n",
      "\n",
      "  Population2022 Poverty Estimate Poverty Percent Median Household Income  \n",
      "0         59,726            6,988            11.8                  70,148  \n",
      "1         59,726            6,988            11.8                  70,148  \n",
      "2         59,726            6,988            11.8                  70,148  \n",
      "3         59,726            6,988            11.8                  70,148  \n",
      "4         59,726            6,988            11.8                  70,148  \n"
     ]
    }
   ],
   "source": [
    "county_pop = pd.read_csv('C://Users//archi//OneDrive//Desktop//Fall 24//Capstone//county_census2.csv')\n",
    "county_grants = pd.read_csv('C://Users//archi//OneDrive//Desktop//Fall 24//Capstone//Data//consolidated_data//county_level_grants.csv')\n",
    "\n",
    "county_grants['state_lower'] = county_grants['state'].str.lower()\n",
    "county_grants['ST'] = county_grants['state']\n",
    "county_pop['STATE'] = county_pop['state']\n",
    "\n",
    "# census['county_lower'] = census['county'].str.lower().str.strip()\n",
    "# census['Postal Code'] = census['Postal Code'].astype(str).str.lower().str.strip()\n",
    "\n",
    "final_df3 = pd.merge(county_grants[['county', 'state', 'state_lower', 'ST', 'year', 'Grants_Made_Amount', 'Grants_Received_Amount']], \n",
    "                    county_pop[['county_lower', 'STATE', 'Postal Code', 'Population2022', \n",
    "                            'Poverty Estimate', 'Poverty Percent', 'Median Household Income']],\n",
    "                    left_on=['county', 'state_lower'],\n",
    "                    right_on=['county_lower', 'Postal Code'],\n",
    "                    how='left')\n",
    "\n",
    "county_level_w_pop = final_df3[['county', 'STATE', 'ST', 'year', 'Grants_Made_Amount', 'Grants_Received_Amount', \n",
    "                                'Population2022', 'Poverty Estimate', 'Poverty Percent', 'Median Household Income']]\n",
    "\n",
    "print(county_level_w_pop.head())"
   ]
  },
  {
   "cell_type": "code",
   "execution_count": 47,
   "metadata": {},
   "outputs": [
    {
     "name": "stdout",
     "output_type": "stream",
     "text": [
      "(260430, 10)\n",
      "(15720, 10)\n",
      "     county    STATE  ST  year  Grants_Made_Amount  Grants_Received_Amount  \\\n",
      "0   autauga  Alabama  AL  2018                 0.0                     0.0   \n",
      "13  autauga  Alabama  AL  2019                 0.0                  7350.0   \n",
      "26  autauga  Alabama  AL  2020                 0.0                 57050.0   \n",
      "39  autauga  Alabama  AL  2021                 0.0                 68000.0   \n",
      "52  autauga  Alabama  AL  2022                 0.0                442600.0   \n",
      "\n",
      "   Population2022 Poverty Estimate Poverty Percent Median Household Income  \n",
      "0          59,726            6,988            11.8                  70,148  \n",
      "13         59,726            6,988            11.8                  70,148  \n",
      "26         59,726            6,988            11.8                  70,148  \n",
      "39         59,726            6,988            11.8                  70,148  \n",
      "52         59,726            6,988            11.8                  70,148  \n"
     ]
    },
    {
     "name": "stderr",
     "output_type": "stream",
     "text": [
      "C:\\Users\\archi\\AppData\\Local\\Temp\\ipykernel_20980\\641852819.py:2: SettingWithCopyWarning: \n",
      "A value is trying to be set on a copy of a slice from a DataFrame\n",
      "\n",
      "See the caveats in the documentation: https://pandas.pydata.org/pandas-docs/stable/user_guide/indexing.html#returning-a-view-versus-a-copy\n",
      "  county_level_w_pop.drop_duplicates(subset=None, keep='first', inplace=True, ignore_index=False)\n"
     ]
    }
   ],
   "source": [
    "print(county_level_w_pop.shape)\n",
    "county_level_w_pop.drop_duplicates(subset=None, keep='first', inplace=True, ignore_index=False)\n",
    "print(county_level_w_pop.shape)\n",
    "print(county_level_w_pop.head())"
   ]
  },
  {
   "cell_type": "code",
   "execution_count": 48,
   "metadata": {},
   "outputs": [],
   "source": [
    "county_level_w_pop.to_csv('C://Users//archi//OneDrive//Desktop//Fall 24//Capstone//Data//consolidated_data//county_level_w_pop.csv', index=False)"
   ]
  },
  {
   "cell_type": "code",
   "execution_count": null,
   "metadata": {},
   "outputs": [],
   "source": []
  }
 ],
 "metadata": {
  "kernelspec": {
   "display_name": "base",
   "language": "python",
   "name": "python3"
  },
  "language_info": {
   "codemirror_mode": {
    "name": "ipython",
    "version": 3
   },
   "file_extension": ".py",
   "mimetype": "text/x-python",
   "name": "python",
   "nbconvert_exporter": "python",
   "pygments_lexer": "ipython3",
   "version": "3.11.4"
  }
 },
 "nbformat": 4,
 "nbformat_minor": 2
}
